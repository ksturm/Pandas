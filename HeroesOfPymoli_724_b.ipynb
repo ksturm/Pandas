{
 "cells": [
  {
   "cell_type": "markdown",
   "metadata": {},
   "source": [
    "### Heroes Of Pymoli Data Analysis\n",
    "* Of the 1163 active players, the vast majority are male (84%). There also exists, a smaller, but notable proportion of female players (14%).\n",
    "\n",
    "* Our peak age demographic falls between 20-24 (44.8%) with secondary groups falling between 15-19 (18.60%) and 25-29 (13.4%).  \n",
    "-----"
   ]
  },
  {
   "cell_type": "markdown",
   "metadata": {},
   "source": [
    "### Note\n",
    "* Instructions have been included for each segment. You do not have to follow them exactly, but they are included to help you think through the steps."
   ]
  },
  {
   "cell_type": "code",
   "execution_count": null,
   "metadata": {},
   "outputs": [],
   "source": [
    "#I ran out of time to troubleshhot the latter parts of the assignment and would appreciate insight on what is going wrong and how to fix it\n",
    "\n",
    "\n",
    "\n",
    "# Observations: -The playerbase is overwhlemingly male\n",
    "#               -Over 75% of the playerbase is under 30\n",
    "#               -When viewed by gender demographic the underrepresented genders on average spend more money per capita\n",
    "#"
   ]
  },
  {
   "cell_type": "code",
   "execution_count": 1,
   "metadata": {},
   "outputs": [],
   "source": [
    "# Dependencies and Setup\n",
    "import pandas as pd\n",
    "import numpy as np\n",
    "\n",
    "# Raw data file\n",
    "file_to_load = \"Resources/purchase_data.csv\"\n",
    "\n",
    "# Read purchasing file and store into pandas data frame\n",
    "purchase_data = pd.read_csv(file_to_load)"
   ]
  },
  {
   "cell_type": "markdown",
   "metadata": {},
   "source": [
    "## Player Count"
   ]
  },
  {
   "cell_type": "markdown",
   "metadata": {},
   "source": [
    "* Display the total number of players\n"
   ]
  },
  {
   "cell_type": "code",
   "execution_count": 2,
   "metadata": {},
   "outputs": [
    {
     "name": "stdout",
     "output_type": "stream",
     "text": [
      "The total number of players is : \n"
     ]
    },
    {
     "data": {
      "text/plain": [
       "576"
      ]
     },
     "execution_count": 2,
     "metadata": {},
     "output_type": "execute_result"
    }
   ],
   "source": [
    "#Calculate total unique players\n",
    "total_players = len(purchase_data['SN'].unique())\n",
    "#display player count\n",
    "print(\"The total number of players is : \")  \n",
    "total_players\n",
    "\n"
   ]
  },
  {
   "cell_type": "markdown",
   "metadata": {},
   "source": [
    "## Purchasing Analysis (Total)"
   ]
  },
  {
   "cell_type": "markdown",
   "metadata": {},
   "source": [
    "* Run basic calculations to obtain number of unique items, average price, etc.\n",
    "\n",
    "\n",
    "* Create a summary data frame to hold the results\n",
    "\n",
    "\n",
    "* Optional: give the displayed data cleaner formatting\n",
    "\n",
    "\n",
    "* Display the summary data frame\n"
   ]
  },
  {
   "cell_type": "code",
   "execution_count": 3,
   "metadata": {
    "scrolled": true
   },
   "outputs": [
    {
     "data": {
      "text/html": [
       "<div>\n",
       "<style scoped>\n",
       "    .dataframe tbody tr th:only-of-type {\n",
       "        vertical-align: middle;\n",
       "    }\n",
       "\n",
       "    .dataframe tbody tr th {\n",
       "        vertical-align: top;\n",
       "    }\n",
       "\n",
       "    .dataframe thead th {\n",
       "        text-align: right;\n",
       "    }\n",
       "</style>\n",
       "<table border=\"1\" class=\"dataframe\">\n",
       "  <thead>\n",
       "    <tr style=\"text-align: right;\">\n",
       "      <th></th>\n",
       "      <th>Average Price</th>\n",
       "      <th>Number of Purchases</th>\n",
       "      <th>Number of Unique Items</th>\n",
       "      <th>Total Revenue</th>\n",
       "    </tr>\n",
       "  </thead>\n",
       "  <tbody>\n",
       "    <tr>\n",
       "      <th>0</th>\n",
       "      <td>$3.03</td>\n",
       "      <td>780</td>\n",
       "      <td>179</td>\n",
       "      <td>$2379.77</td>\n",
       "    </tr>\n",
       "  </tbody>\n",
       "</table>\n",
       "</div>"
      ],
      "text/plain": [
       "  Average Price  Number of Purchases  Number of Unique Items Total Revenue\n",
       "0         $3.03                  780                     179      $2379.77"
      ]
     },
     "execution_count": 3,
     "metadata": {},
     "output_type": "execute_result"
    }
   ],
   "source": [
    "#get series of unique item names, count items in the series\n",
    "unique_items = purchase_data['Item Name'].unique()\n",
    "num_unique_items = len(unique_items)\n",
    "\n",
    "#get total number of purchases for data set\n",
    "total_purchases = len(purchase_data['Purchase ID'])\n",
    "\n",
    "#sum prices for each entry to get total revenue\n",
    "total_revenue = purchase_data[\"Price\"].sum()\n",
    "\n",
    "#find prices for each unique item, average and round to 2 sig. figs.\n",
    "item_prices = purchase_data['Price'].unique()\n",
    "avg_item_price = round(item_prices.mean(),2)\n",
    "\n",
    "#construct summary data frame\n",
    "summary = pd.DataFrame({\"Total Revenue\": '$'+str(total_revenue),\n",
    "                        \"Number of Unique Items\": [num_unique_items],\n",
    "                        \"Average Price\": '$'+str(avg_item_price),\n",
    "                        \"Number of Purchases\": [total_purchases]})\n",
    "#display summary table\n",
    "summary"
   ]
  },
  {
   "cell_type": "markdown",
   "metadata": {},
   "source": [
    "## Gender Demographics"
   ]
  },
  {
   "cell_type": "markdown",
   "metadata": {},
   "source": [
    "* Percentage and Count of Male Players\n",
    "\n",
    "\n",
    "* Percentage and Count of Female Players\n",
    "\n",
    "\n",
    "* Percentage and Count of Other / Non-Disclosed\n",
    "\n",
    "\n"
   ]
  },
  {
   "cell_type": "code",
   "execution_count": 4,
   "metadata": {},
   "outputs": [
    {
     "data": {
      "text/html": [
       "<div>\n",
       "<style scoped>\n",
       "    .dataframe tbody tr th:only-of-type {\n",
       "        vertical-align: middle;\n",
       "    }\n",
       "\n",
       "    .dataframe tbody tr th {\n",
       "        vertical-align: top;\n",
       "    }\n",
       "\n",
       "    .dataframe thead th {\n",
       "        text-align: right;\n",
       "    }\n",
       "</style>\n",
       "<table border=\"1\" class=\"dataframe\">\n",
       "  <thead>\n",
       "    <tr style=\"text-align: right;\">\n",
       "      <th></th>\n",
       "      <th>Gender</th>\n",
       "      <th>Percentage of Players</th>\n",
       "      <th>Total Players</th>\n",
       "    </tr>\n",
       "  </thead>\n",
       "  <tbody>\n",
       "    <tr>\n",
       "      <th>0</th>\n",
       "      <td>Male</td>\n",
       "      <td>84.03</td>\n",
       "      <td>484</td>\n",
       "    </tr>\n",
       "    <tr>\n",
       "      <th>1</th>\n",
       "      <td>Female</td>\n",
       "      <td>14.06</td>\n",
       "      <td>81</td>\n",
       "    </tr>\n",
       "    <tr>\n",
       "      <th>2</th>\n",
       "      <td>Other</td>\n",
       "      <td>1.91</td>\n",
       "      <td>11</td>\n",
       "    </tr>\n",
       "  </tbody>\n",
       "</table>\n",
       "</div>"
      ],
      "text/plain": [
       "   Gender  Percentage of Players  Total Players\n",
       "0    Male                  84.03            484\n",
       "1  Female                  14.06             81\n",
       "2   Other                   1.91             11"
      ]
     },
     "execution_count": 4,
     "metadata": {},
     "output_type": "execute_result"
    }
   ],
   "source": [
    "#group by Gender\n",
    "grouped_df = purchase_data.groupby(\"Gender\")\n",
    "#Remove duplicate players\n",
    "\n",
    "new_df = grouped_df.nunique()\n",
    "\n",
    "#Get toal number of unique players\n",
    "total = new_df[\"SN\"].sum()\n",
    "\n",
    "#total number for each gender\n",
    "males = new_df.iloc[1,1]\n",
    "females = new_df.iloc[0,1]\n",
    "other = new_df.iloc[2,1]\n",
    "\n",
    "# len(males)\n",
    "# len(females)\n",
    "# len(other)\n",
    "\n",
    "pct_male = round((males/total)*100, 2)\n",
    "pct_female = round((females/total)*100, 2)\n",
    "pct_other = round((other/total)*100, 2)\n",
    "\n",
    "\n",
    "\n",
    "gender_summary = pd.DataFrame({\n",
    "                                \"Gender\": [\"Male\",\"Female\",\"Other\"],\n",
    "                                \"Total Players\": [males, females, other],\n",
    "                                \"Percentage of Players\": [pct_male, pct_female, pct_other]})\n",
    "gender_summary\n"
   ]
  },
  {
   "cell_type": "code",
   "execution_count": null,
   "metadata": {},
   "outputs": [],
   "source": []
  },
  {
   "cell_type": "markdown",
   "metadata": {},
   "source": [
    "\n",
    "## Purchasing Analysis (Gender)"
   ]
  },
  {
   "cell_type": "markdown",
   "metadata": {},
   "source": [
    "* Run basic calculations to obtain purchase count, avg. purchase price, avg. purchase total per person etc. by gender\n",
    "\n",
    "\n",
    "\n",
    "\n",
    "* Create a summary data frame to hold the results\n",
    "\n",
    "\n",
    "* Optional: give the displayed data cleaner formatting\n",
    "\n",
    "\n",
    "* Display the summary data frame"
   ]
  },
  {
   "cell_type": "code",
   "execution_count": 5,
   "metadata": {},
   "outputs": [
    {
     "data": {
      "text/html": [
       "<div>\n",
       "<style scoped>\n",
       "    .dataframe tbody tr th:only-of-type {\n",
       "        vertical-align: middle;\n",
       "    }\n",
       "\n",
       "    .dataframe tbody tr th {\n",
       "        vertical-align: top;\n",
       "    }\n",
       "\n",
       "    .dataframe thead th {\n",
       "        text-align: right;\n",
       "    }\n",
       "</style>\n",
       "<table border=\"1\" class=\"dataframe\">\n",
       "  <thead>\n",
       "    <tr style=\"text-align: right;\">\n",
       "      <th></th>\n",
       "      <th>Average Purchase Price</th>\n",
       "      <th>Gender</th>\n",
       "      <th>Purchase Count</th>\n",
       "      <th>Total Purchase Value</th>\n",
       "    </tr>\n",
       "  </thead>\n",
       "  <tbody>\n",
       "    <tr>\n",
       "      <th>0</th>\n",
       "      <td>3.02</td>\n",
       "      <td>Male</td>\n",
       "      <td>652</td>\n",
       "      <td>1967.64</td>\n",
       "    </tr>\n",
       "    <tr>\n",
       "      <th>1</th>\n",
       "      <td>3.20</td>\n",
       "      <td>Female</td>\n",
       "      <td>113</td>\n",
       "      <td>361.94</td>\n",
       "    </tr>\n",
       "    <tr>\n",
       "      <th>2</th>\n",
       "      <td>3.35</td>\n",
       "      <td>Other</td>\n",
       "      <td>15</td>\n",
       "      <td>50.19</td>\n",
       "    </tr>\n",
       "  </tbody>\n",
       "</table>\n",
       "</div>"
      ],
      "text/plain": [
       "   Average Purchase Price  Gender  Purchase Count  Total Purchase Value\n",
       "0                    3.02    Male             652               1967.64\n",
       "1                    3.20  Female             113                361.94\n",
       "2                    3.35   Other              15                 50.19"
      ]
     },
     "execution_count": 5,
     "metadata": {},
     "output_type": "execute_result"
    }
   ],
   "source": [
    "# need avg total per person\n",
    "\n",
    "# Create dataframes for each demographic. Calculate total number of purchases, average purchase price, and total revenue for each gender demographic\n",
    "male_purchase_count = purchase_data.loc[purchase_data[\"Gender\"] == \"Male\"]\n",
    "male_purchases = len(male_purchase_count)\n",
    "male_avg_price = round(male_purchase_count['Price'].mean(), 2)\n",
    "male_total_rev = male_purchase_count['Price'].sum()\n",
    "\n",
    "female_purchase_count = purchase_data.loc[purchase_data[\"Gender\"] == \"Female\"]\n",
    "female_purchases = len(female_purchase_count)\n",
    "female_avg_price = round(female_purchase_count['Price'].mean(), 2)\n",
    "female_total_rev = female_purchase_count['Price'].sum()\n",
    "\n",
    "Other_purchase_count = purchase_data.loc[purchase_data[\"Gender\"] == \"Other / Non-Disclosed\"]\n",
    "Other_purchases = len(Other_purchase_count)\n",
    "Other_avg_price = round(Other_purchase_count['Price'].mean(), 2)\n",
    "Other_total_rev = Other_purchase_count['Price'].sum()\n",
    "\n",
    "#Display a summary of the results\n",
    "Gender_purchasing_summary_df = pd.DataFrame({\"Gender\": [\"Male\",\"Female\",\"Other\"],\n",
    "                                             \"Purchase Count\": [male_purchases, female_purchases, Other_purchases],\n",
    "                                             \"Average Purchase Price\": [male_avg_price, female_avg_price, Other_avg_price],\n",
    "                                             \"Total Purchase Value\": [male_total_rev, female_total_rev, Other_total_rev]})\n",
    "                                             #\"Avg Purchase Total Per Person\": []})\n",
    "Gender_purchasing_summary_df"
   ]
  },
  {
   "cell_type": "code",
   "execution_count": null,
   "metadata": {},
   "outputs": [],
   "source": []
  },
  {
   "cell_type": "markdown",
   "metadata": {},
   "source": [
    "## Age Demographics"
   ]
  },
  {
   "cell_type": "markdown",
   "metadata": {},
   "source": [
    "* Establish bins for ages\n",
    "\n",
    "\n",
    "* Categorize the existing players using the age bins. Hint: use pd.cut()\n",
    "\n",
    "\n",
    "* Calculate the numbers and percentages by age group\n",
    "\n",
    "\n",
    "* Create a summary data frame to hold the results\n",
    "\n",
    "\n",
    "* Optional: round the percentage column to two decimal points\n",
    "\n",
    "\n",
    "* Display Age Demographics Table\n"
   ]
  },
  {
   "cell_type": "code",
   "execution_count": 6,
   "metadata": {},
   "outputs": [],
   "source": [
    "# Establish bins for ages\n",
    "age_bins = [0, 9.90, 14.90, 19.90, 24.90, 29.90, 34.90, 39.90, 99999]\n",
    "group_names = [\"<10\", \"10-14\", \"15-19\", \"20-24\", \"25-29\", \"30-34\", \"35-39\", \"40+\"]\n"
   ]
  },
  {
   "cell_type": "markdown",
   "metadata": {},
   "source": [
    "## Purchasing Analysis (Age)"
   ]
  },
  {
   "cell_type": "markdown",
   "metadata": {},
   "source": [
    "* Bin the purchase_data data frame by age\n",
    "\n",
    "\n",
    "* Run basic calculations to obtain purchase count, avg. purchase price, avg. purchase total per person etc. in the table below\n",
    "\n",
    "\n",
    "* Create a summary data frame to hold the results\n",
    "\n",
    "\n",
    "* Optional: give the displayed data cleaner formatting\n",
    "\n",
    "\n",
    "* Display the summary data frame"
   ]
  },
  {
   "cell_type": "code",
   "execution_count": 51,
   "metadata": {},
   "outputs": [
    {
     "data": {
      "text/html": [
       "<div>\n",
       "<style scoped>\n",
       "    .dataframe tbody tr th:only-of-type {\n",
       "        vertical-align: middle;\n",
       "    }\n",
       "\n",
       "    .dataframe tbody tr th {\n",
       "        vertical-align: top;\n",
       "    }\n",
       "\n",
       "    .dataframe thead th {\n",
       "        text-align: right;\n",
       "    }\n",
       "</style>\n",
       "<table border=\"1\" class=\"dataframe\">\n",
       "  <thead>\n",
       "    <tr style=\"text-align: right;\">\n",
       "      <th></th>\n",
       "      <th>Age Group</th>\n",
       "      <th>Total Count</th>\n",
       "      <th>percent</th>\n",
       "    </tr>\n",
       "  </thead>\n",
       "  <tbody>\n",
       "    <tr>\n",
       "      <th>0</th>\n",
       "      <td>20-24</td>\n",
       "      <td>365</td>\n",
       "      <td>46.7949</td>\n",
       "    </tr>\n",
       "    <tr>\n",
       "      <th>1</th>\n",
       "      <td>15-19</td>\n",
       "      <td>136</td>\n",
       "      <td>17.4359</td>\n",
       "    </tr>\n",
       "    <tr>\n",
       "      <th>2</th>\n",
       "      <td>25-29</td>\n",
       "      <td>101</td>\n",
       "      <td>12.9487</td>\n",
       "    </tr>\n",
       "    <tr>\n",
       "      <th>3</th>\n",
       "      <td>30-34</td>\n",
       "      <td>73</td>\n",
       "      <td>9.35897</td>\n",
       "    </tr>\n",
       "    <tr>\n",
       "      <th>4</th>\n",
       "      <td>35-39</td>\n",
       "      <td>41</td>\n",
       "      <td>5.25641</td>\n",
       "    </tr>\n",
       "    <tr>\n",
       "      <th>5</th>\n",
       "      <td>10-14</td>\n",
       "      <td>28</td>\n",
       "      <td>3.58974</td>\n",
       "    </tr>\n",
       "    <tr>\n",
       "      <th>6</th>\n",
       "      <td>&lt;10</td>\n",
       "      <td>23</td>\n",
       "      <td>2.94872</td>\n",
       "    </tr>\n",
       "    <tr>\n",
       "      <th>7</th>\n",
       "      <td>40+</td>\n",
       "      <td>13</td>\n",
       "      <td>1.66667</td>\n",
       "    </tr>\n",
       "  </tbody>\n",
       "</table>\n",
       "</div>"
      ],
      "text/plain": [
       "  Age Group Total Count  percent\n",
       "0     20-24         365  46.7949\n",
       "1     15-19         136  17.4359\n",
       "2     25-29         101  12.9487\n",
       "3     30-34          73  9.35897\n",
       "4     35-39          41  5.25641\n",
       "5     10-14          28  3.58974\n",
       "6       <10          23  2.94872\n",
       "7       40+          13  1.66667"
      ]
     },
     "execution_count": 51,
     "metadata": {},
     "output_type": "execute_result"
    }
   ],
   "source": [
    "age_count_df\n"
   ]
  },
  {
   "cell_type": "code",
   "execution_count": 7,
   "metadata": {},
   "outputs": [],
   "source": [
    "purchase_data[\"Total Count\"] = pd.cut(purchase_data[\"Age\"], age_bins, labels=group_names)\n",
    "age_count = purchase_data[\"Total Count\"].value_counts().reset_index().values\n",
    "age_count_df = pd.DataFrame(age_count,columns=[\"Age Group\", \"Total Count\"])\n",
    "age_count_df.reset_index()\n",
    "age_sum=age_count_df[\"Total Count\"].sum()\n",
    "age_count_df[\"percent\"] = age_count_df[\"Total Count\"]/age_sum*100\n",
    "\n",
    "\n",
    "\n",
    "# age_percent_df = pd.DataFrame(age_percent,columns=[\"Percent\"])\n",
    "# age_percent_df.reset_index()\n",
    "# age_demos = pd.merge(age_percent_df, age_count_df, on=\"Age Group\", how=\"outer\")\n",
    "# age_demos = age_demos.rename(columns={'Total Count_x': 'Percentage of Players', 'Total Count_y': \"Total Count\"})\n",
    "# age_demos.index.name = \"\"\n",
    "# #age_demos[\"Percentage of Players\"] = age_demos[\"Percentage of Players\"].map(\"{:.2f}\".format)\n",
    "# age_demos"
   ]
  },
  {
   "cell_type": "code",
   "execution_count": 8,
   "metadata": {},
   "outputs": [
    {
     "data": {
      "text/html": [
       "<div>\n",
       "<style scoped>\n",
       "    .dataframe tbody tr th:only-of-type {\n",
       "        vertical-align: middle;\n",
       "    }\n",
       "\n",
       "    .dataframe tbody tr th {\n",
       "        vertical-align: top;\n",
       "    }\n",
       "\n",
       "    .dataframe thead th {\n",
       "        text-align: right;\n",
       "    }\n",
       "</style>\n",
       "<table border=\"1\" class=\"dataframe\">\n",
       "  <thead>\n",
       "    <tr style=\"text-align: right;\">\n",
       "      <th></th>\n",
       "      <th>Age Group</th>\n",
       "      <th>Total Count</th>\n",
       "      <th>percent</th>\n",
       "    </tr>\n",
       "  </thead>\n",
       "  <tbody>\n",
       "    <tr>\n",
       "      <th>0</th>\n",
       "      <td>20-24</td>\n",
       "      <td>365</td>\n",
       "      <td>46.7949</td>\n",
       "    </tr>\n",
       "    <tr>\n",
       "      <th>1</th>\n",
       "      <td>15-19</td>\n",
       "      <td>136</td>\n",
       "      <td>17.4359</td>\n",
       "    </tr>\n",
       "    <tr>\n",
       "      <th>2</th>\n",
       "      <td>25-29</td>\n",
       "      <td>101</td>\n",
       "      <td>12.9487</td>\n",
       "    </tr>\n",
       "    <tr>\n",
       "      <th>3</th>\n",
       "      <td>30-34</td>\n",
       "      <td>73</td>\n",
       "      <td>9.35897</td>\n",
       "    </tr>\n",
       "    <tr>\n",
       "      <th>4</th>\n",
       "      <td>35-39</td>\n",
       "      <td>41</td>\n",
       "      <td>5.25641</td>\n",
       "    </tr>\n",
       "    <tr>\n",
       "      <th>5</th>\n",
       "      <td>10-14</td>\n",
       "      <td>28</td>\n",
       "      <td>3.58974</td>\n",
       "    </tr>\n",
       "    <tr>\n",
       "      <th>6</th>\n",
       "      <td>&lt;10</td>\n",
       "      <td>23</td>\n",
       "      <td>2.94872</td>\n",
       "    </tr>\n",
       "    <tr>\n",
       "      <th>7</th>\n",
       "      <td>40+</td>\n",
       "      <td>13</td>\n",
       "      <td>1.66667</td>\n",
       "    </tr>\n",
       "  </tbody>\n",
       "</table>\n",
       "</div>"
      ],
      "text/plain": [
       "  Age Group Total Count  percent\n",
       "0     20-24         365  46.7949\n",
       "1     15-19         136  17.4359\n",
       "2     25-29         101  12.9487\n",
       "3     30-34          73  9.35897\n",
       "4     35-39          41  5.25641\n",
       "5     10-14          28  3.58974\n",
       "6       <10          23  2.94872\n",
       "7       40+          13  1.66667"
      ]
     },
     "execution_count": 8,
     "metadata": {},
     "output_type": "execute_result"
    }
   ],
   "source": [
    "age_count_df"
   ]
  },
  {
   "cell_type": "code",
   "execution_count": 9,
   "metadata": {},
   "outputs": [
    {
     "ename": "AttributeError",
     "evalue": "'numpy.ndarray' object has no attribute 'drop'",
     "output_type": "error",
     "traceback": [
      "\u001b[1;31m---------------------------------------------------------------------------\u001b[0m",
      "\u001b[1;31mAttributeError\u001b[0m                            Traceback (most recent call last)",
      "\u001b[1;32m<ipython-input-9-049058aba700>\u001b[0m in \u001b[0;36m<module>\u001b[1;34m()\u001b[0m\n\u001b[0;32m      8\u001b[0m \u001b[0mpurchase_data_Age_mean\u001b[0m \u001b[1;33m=\u001b[0m \u001b[0mpurchase_data_Age\u001b[0m\u001b[1;33m.\u001b[0m\u001b[0mmean\u001b[0m\u001b[1;33m(\u001b[0m\u001b[1;33m)\u001b[0m\u001b[1;33m\u001b[0m\u001b[0m\n\u001b[0;32m      9\u001b[0m \u001b[0mpurchase_data_Age_mean\u001b[0m\u001b[1;33m=\u001b[0m\u001b[0mpd\u001b[0m\u001b[1;33m.\u001b[0m\u001b[0mDataFrame\u001b[0m\u001b[1;33m(\u001b[0m\u001b[0mpurchase_data_Age_mean\u001b[0m\u001b[1;33m)\u001b[0m\u001b[1;33m.\u001b[0m\u001b[0mreset_index\u001b[0m\u001b[1;33m(\u001b[0m\u001b[1;33m)\u001b[0m\u001b[1;33m.\u001b[0m\u001b[0mvalues\u001b[0m\u001b[1;33m\u001b[0m\u001b[0m\n\u001b[1;32m---> 10\u001b[1;33m \u001b[0mpurchase_data_Age_mean\u001b[0m \u001b[1;33m=\u001b[0m \u001b[0mpurchase_data_Age_mean\u001b[0m\u001b[1;33m.\u001b[0m\u001b[0mdrop\u001b[0m\u001b[1;33m(\u001b[0m\u001b[1;33m[\u001b[0m\u001b[1;34m\"Purchase ID\"\u001b[0m\u001b[1;33m,\u001b[0m \u001b[1;34m\"Age\"\u001b[0m\u001b[1;33m,\u001b[0m \u001b[1;34m\"Item ID\"\u001b[0m\u001b[1;33m]\u001b[0m\u001b[1;33m,\u001b[0m \u001b[0maxis\u001b[0m\u001b[1;33m=\u001b[0m\u001b[1;36m1\u001b[0m\u001b[1;33m)\u001b[0m\u001b[1;33m\u001b[0m\u001b[0m\n\u001b[0m\u001b[0;32m     11\u001b[0m \u001b[0manalysis\u001b[0m \u001b[1;33m=\u001b[0m \u001b[0mpd\u001b[0m\u001b[1;33m.\u001b[0m\u001b[0mmerge\u001b[0m\u001b[1;33m(\u001b[0m\u001b[0mpurchase_data_Age_sum\u001b[0m\u001b[1;33m,\u001b[0m \u001b[0mage_count_df\u001b[0m\u001b[1;33m,\u001b[0m\u001b[0mon\u001b[0m\u001b[1;33m=\u001b[0m\u001b[1;34m\"Age Group\"\u001b[0m\u001b[1;33m,\u001b[0m \u001b[0mhow\u001b[0m\u001b[1;33m=\u001b[0m\u001b[1;34m\"outer\"\u001b[0m\u001b[1;33m)\u001b[0m\u001b[1;33m\u001b[0m\u001b[0m\n\u001b[0;32m     12\u001b[0m \u001b[0manalysis_2\u001b[0m \u001b[1;33m=\u001b[0m \u001b[0manalysis\u001b[0m\u001b[1;33m.\u001b[0m\u001b[0mrename\u001b[0m\u001b[1;33m(\u001b[0m\u001b[0mcolumns\u001b[0m\u001b[1;33m=\u001b[0m\u001b[1;33m{\u001b[0m\u001b[1;34m'Price'\u001b[0m\u001b[1;33m:\u001b[0m \u001b[1;34m'Average Purchase Price'\u001b[0m\u001b[1;33m,\u001b[0m \u001b[1;34m'Total Count'\u001b[0m\u001b[1;33m:\u001b[0m \u001b[1;34m\"Purchase Count\"\u001b[0m\u001b[1;33m}\u001b[0m\u001b[1;33m)\u001b[0m\u001b[1;33m\u001b[0m\u001b[0m\n",
      "\u001b[1;31mAttributeError\u001b[0m: 'numpy.ndarray' object has no attribute 'drop'"
     ]
    }
   ],
   "source": [
    "\n",
    "\n",
    "#Add age group column to dataframe, group by that column\n",
    "purchase_data[\"Age Group\"] = pd.cut(purchase_data[\"Age\"], age_bins, labels=group_names)\n",
    "purchase_data_Age = purchase_data.groupby(\"Age Group\")\n",
    "purchase_data_Age_sum = purchase_data_Age.sum()\n",
    "purchase_data_Age_sum = purchase_data_Age_sum.drop([\"Purchase ID\", \"Age\", \"Item ID\"], axis=1)\n",
    "purchase_data_Age_sum = purchase_data_Age_sum.rename(columns={\"Price\": 'Total Purchase Value'})\n",
    "\n",
    "purchase_data_Age_mean = purchase_data_Age.mean()\n",
    "purchase_data_Age_mean=pd.DataFrame(purchase_data_Age_mean).reset_index().values\n",
    "purchase_data_Age_mean = purchase_data_Age_mean.drop([\"Purchase ID\", \"Age\", \"Item ID\"], axis=1)\n",
    "analysis = pd.merge(purchase_data_Age_sum, age_count_df,on=\"Age Group\", how=\"outer\")\n",
    "analysis_2 = analysis.rename(columns={'Price': 'Average Purchase Price', 'Total Count': \"Purchase Count\"})\n",
    "\n",
    "analysis_3 = pd.merge(purchase_data_Age_mean, analysis_2,on=\"Age Group\",how=\"outer\")\n",
    "analysis_4 = analysis_3.drop(['Purchase ID', 'Age', 'Item ID'], axis=1)\n",
    "analysis_5 = analysis_4.rename(columns={'Price': 'Average Purchase Total per Person'})\n",
    "analysis_6 = pd.merge(purchase_data_Age_sum, analysis_5,on=\"Age Group\",how=\"outer\")\n",
    "analysis_6[\"Total Purchase Value\"] = analysis_6[\"Total Purchase Value\"] .map(\"${:.2f}\".format)\n",
    "analysis_6[\"Average Purchase Total per Person\"] = analysis_6[\"Average Purchase Total per Person\"] .map(\"${:.2f}\".format)\n",
    "analysis_6[\"Average Purchase Price\"] = analysis_6[\"Average Purchase Price\"] .map(\"${:.2f}\".format)\n",
    "analysis_6\n",
    "\n",
    "#Calculate values of interest\n",
    "#Age_group_count = purchase_data[\"Purchase ID\"].count()\n",
    "# Age_group_sum = purchase_data[\"Price\"].sum()\n",
    "# Age_group_avg = purchase_data[\"Price\"].mean()\n",
    "\n",
    "#need to use merge here maybe?\n",
    "#Age_purchasing_summary_df = pd.DataFrame({\"Purchase Count\": [Age_group_count],\n",
    "                                         # \"Average Purchase Price\": [Age_group_avg],\n",
    "                                         # \"Total Purchase Value\": [Age_group_sum]})\n",
    "                                          #\"Average Purchase Total per Person\": []\n",
    "#Age_purchasing_summary_df\n",
    "#purchase_data = purchase_data.mean()\n",
    "#Age_group_count\n",
    "# Age_group_sum\n",
    "# Age_group_avg\n",
    "\n",
    "#purchase_data\n",
    "\n",
    "\n"
   ]
  },
  {
   "cell_type": "code",
   "execution_count": null,
   "metadata": {},
   "outputs": [],
   "source": []
  },
  {
   "cell_type": "code",
   "execution_count": null,
   "metadata": {},
   "outputs": [],
   "source": []
  },
  {
   "cell_type": "markdown",
   "metadata": {},
   "source": [
    "## Top Spenders"
   ]
  },
  {
   "cell_type": "markdown",
   "metadata": {},
   "source": [
    "* Run basic calculations to obtain the results in the table below\n",
    "\n",
    "\n",
    "* Create a summary data frame to hold the results\n",
    "\n",
    "\n",
    "* Sort the total purchase value column in descending order\n",
    "\n",
    "\n",
    "* Optional: give the displayed data cleaner formatting\n",
    "\n",
    "\n",
    "* Display a preview of the summary data frame\n",
    "\n"
   ]
  },
  {
   "cell_type": "code",
   "execution_count": 13,
   "metadata": {},
   "outputs": [
    {
     "data": {
      "text/html": [
       "<div>\n",
       "<style scoped>\n",
       "    .dataframe tbody tr th:only-of-type {\n",
       "        vertical-align: middle;\n",
       "    }\n",
       "\n",
       "    .dataframe tbody tr th {\n",
       "        vertical-align: top;\n",
       "    }\n",
       "\n",
       "    .dataframe thead th {\n",
       "        text-align: right;\n",
       "    }\n",
       "</style>\n",
       "<table border=\"1\" class=\"dataframe\">\n",
       "  <thead>\n",
       "    <tr style=\"text-align: right;\">\n",
       "      <th></th>\n",
       "      <th>Purchase ID</th>\n",
       "      <th>Age</th>\n",
       "      <th>Gender</th>\n",
       "      <th>Item ID</th>\n",
       "      <th>Item Name</th>\n",
       "      <th>Price</th>\n",
       "      <th>Total Count</th>\n",
       "      <th>Age Group</th>\n",
       "    </tr>\n",
       "    <tr>\n",
       "      <th>SN</th>\n",
       "      <th></th>\n",
       "      <th></th>\n",
       "      <th></th>\n",
       "      <th></th>\n",
       "      <th></th>\n",
       "      <th></th>\n",
       "      <th></th>\n",
       "      <th></th>\n",
       "    </tr>\n",
       "  </thead>\n",
       "  <tbody>\n",
       "    <tr>\n",
       "      <th>Lisim78</th>\n",
       "      <td>0</td>\n",
       "      <td>20</td>\n",
       "      <td>Male</td>\n",
       "      <td>108</td>\n",
       "      <td>Extraction, Quickblade Of Trembling Hands</td>\n",
       "      <td>3.53</td>\n",
       "      <td>20-24</td>\n",
       "      <td>20-24</td>\n",
       "    </tr>\n",
       "    <tr>\n",
       "      <th>Lisovynya38</th>\n",
       "      <td>1</td>\n",
       "      <td>40</td>\n",
       "      <td>Male</td>\n",
       "      <td>143</td>\n",
       "      <td>Frenzied Scimitar</td>\n",
       "      <td>1.56</td>\n",
       "      <td>40+</td>\n",
       "      <td>40+</td>\n",
       "    </tr>\n",
       "    <tr>\n",
       "      <th>Ithergue48</th>\n",
       "      <td>2</td>\n",
       "      <td>24</td>\n",
       "      <td>Male</td>\n",
       "      <td>92</td>\n",
       "      <td>Final Critic</td>\n",
       "      <td>4.88</td>\n",
       "      <td>20-24</td>\n",
       "      <td>20-24</td>\n",
       "    </tr>\n",
       "    <tr>\n",
       "      <th>Chamassasya86</th>\n",
       "      <td>3</td>\n",
       "      <td>24</td>\n",
       "      <td>Male</td>\n",
       "      <td>100</td>\n",
       "      <td>Blindscythe</td>\n",
       "      <td>3.27</td>\n",
       "      <td>20-24</td>\n",
       "      <td>20-24</td>\n",
       "    </tr>\n",
       "    <tr>\n",
       "      <th>Iskosia90</th>\n",
       "      <td>4</td>\n",
       "      <td>23</td>\n",
       "      <td>Male</td>\n",
       "      <td>131</td>\n",
       "      <td>Fury</td>\n",
       "      <td>1.44</td>\n",
       "      <td>20-24</td>\n",
       "      <td>20-24</td>\n",
       "    </tr>\n",
       "  </tbody>\n",
       "</table>\n",
       "</div>"
      ],
      "text/plain": [
       "               Purchase ID  Age Gender  Item ID  \\\n",
       "SN                                                \n",
       "Lisim78                  0   20   Male      108   \n",
       "Lisovynya38              1   40   Male      143   \n",
       "Ithergue48               2   24   Male       92   \n",
       "Chamassasya86            3   24   Male      100   \n",
       "Iskosia90                4   23   Male      131   \n",
       "\n",
       "                                               Item Name  Price Total Count  \\\n",
       "SN                                                                            \n",
       "Lisim78        Extraction, Quickblade Of Trembling Hands   3.53       20-24   \n",
       "Lisovynya38                            Frenzied Scimitar   1.56         40+   \n",
       "Ithergue48                                  Final Critic   4.88       20-24   \n",
       "Chamassasya86                                Blindscythe   3.27       20-24   \n",
       "Iskosia90                                           Fury   1.44       20-24   \n",
       "\n",
       "              Age Group  \n",
       "SN                       \n",
       "Lisim78           20-24  \n",
       "Lisovynya38         40+  \n",
       "Ithergue48        20-24  \n",
       "Chamassasya86     20-24  \n",
       "Iskosia90         20-24  "
      ]
     },
     "execution_count": 13,
     "metadata": {},
     "output_type": "execute_result"
    }
   ],
   "source": [
    "purchase_data_SN.head()"
   ]
  },
  {
   "cell_type": "code",
   "execution_count": 14,
   "metadata": {},
   "outputs": [
    {
     "ename": "ValueError",
     "evalue": "can not merge DataFrame with instance of type <class 'numpy.ndarray'>",
     "output_type": "error",
     "traceback": [
      "\u001b[1;31m---------------------------------------------------------------------------\u001b[0m",
      "\u001b[1;31mValueError\u001b[0m                                Traceback (most recent call last)",
      "\u001b[1;32m<ipython-input-14-7fc9c3e471a9>\u001b[0m in \u001b[0;36m<module>\u001b[1;34m()\u001b[0m\n\u001b[0;32m     15\u001b[0m \u001b[0mprice_sum\u001b[0m \u001b[1;33m=\u001b[0m \u001b[0mtop_spenders\u001b[0m\u001b[1;33m.\u001b[0m\u001b[0mgroupby\u001b[0m\u001b[1;33m(\u001b[0m\u001b[1;34m\"SN\"\u001b[0m\u001b[1;33m)\u001b[0m\u001b[1;33m\u001b[0m\u001b[0m\n\u001b[0;32m     16\u001b[0m \u001b[0msum_top_spenders\u001b[0m \u001b[1;33m=\u001b[0m \u001b[0mprice_sum\u001b[0m\u001b[1;33m.\u001b[0m\u001b[0msum\u001b[0m\u001b[1;33m(\u001b[0m\u001b[1;33m)\u001b[0m\u001b[1;33m.\u001b[0m\u001b[0mreset_index\u001b[0m\u001b[1;33m(\u001b[0m\u001b[1;33m)\u001b[0m\u001b[1;33m.\u001b[0m\u001b[0mvalues\u001b[0m\u001b[1;33m\u001b[0m\u001b[0m\n\u001b[1;32m---> 17\u001b[1;33m \u001b[0mts_analysis1\u001b[0m\u001b[1;33m=\u001b[0m\u001b[0mpd\u001b[0m\u001b[1;33m.\u001b[0m\u001b[0mmerge\u001b[0m\u001b[1;33m(\u001b[0m\u001b[0msum_top_spenders\u001b[0m\u001b[1;33m,\u001b[0m \u001b[0mmean\u001b[0m\u001b[1;33m,\u001b[0m\u001b[0mon\u001b[0m\u001b[1;33m=\u001b[0m\u001b[1;34m\"SN\"\u001b[0m\u001b[1;33m,\u001b[0m\u001b[0mhow\u001b[0m\u001b[1;33m=\u001b[0m\u001b[1;34m\"outer\"\u001b[0m\u001b[1;33m)\u001b[0m\u001b[1;33m\u001b[0m\u001b[0m\n\u001b[0m\u001b[0;32m     18\u001b[0m \u001b[0mts_analysis2\u001b[0m\u001b[1;33m=\u001b[0m\u001b[0mpd\u001b[0m\u001b[1;33m.\u001b[0m\u001b[0mmerge\u001b[0m\u001b[1;33m(\u001b[0m\u001b[0mts_analysis1\u001b[0m\u001b[1;33m,\u001b[0m \u001b[0mtop_spenders_val_count_df\u001b[0m\u001b[1;33m,\u001b[0m\u001b[0mon\u001b[0m\u001b[1;33m=\u001b[0m\u001b[1;34m\"SN\"\u001b[0m\u001b[1;33m,\u001b[0m\u001b[0mhow\u001b[0m\u001b[1;33m=\u001b[0m\u001b[1;34m\"outer\"\u001b[0m\u001b[1;33m)\u001b[0m\u001b[1;33m\u001b[0m\u001b[0m\n\u001b[0;32m     19\u001b[0m \u001b[0mts_analysis3\u001b[0m\u001b[1;33m=\u001b[0m\u001b[0mts_analysis2\u001b[0m\u001b[1;33m.\u001b[0m\u001b[0mrename\u001b[0m\u001b[1;33m(\u001b[0m\u001b[0mcolumns\u001b[0m\u001b[1;33m=\u001b[0m\u001b[1;33m{\u001b[0m\u001b[1;34m'Price_x'\u001b[0m\u001b[1;33m:\u001b[0m \u001b[1;34m'Total Purchase Value'\u001b[0m\u001b[1;33m,\u001b[0m \u001b[1;34m'Price_y'\u001b[0m\u001b[1;33m:\u001b[0m\u001b[1;34m'Average Purchase Price'\u001b[0m\u001b[1;33m,\u001b[0m \u001b[1;34m'Rename'\u001b[0m\u001b[1;33m:\u001b[0m\u001b[1;34m'Purchase Count'\u001b[0m\u001b[1;33m}\u001b[0m\u001b[1;33m)\u001b[0m\u001b[1;33m\u001b[0m\u001b[0m\n",
      "\u001b[1;32m~\\Anaconda3\\lib\\site-packages\\pandas\\core\\reshape\\merge.py\u001b[0m in \u001b[0;36mmerge\u001b[1;34m(left, right, how, on, left_on, right_on, left_index, right_index, sort, suffixes, copy, indicator, validate)\u001b[0m\n\u001b[0;32m     55\u001b[0m                          \u001b[0mright_index\u001b[0m\u001b[1;33m=\u001b[0m\u001b[0mright_index\u001b[0m\u001b[1;33m,\u001b[0m \u001b[0msort\u001b[0m\u001b[1;33m=\u001b[0m\u001b[0msort\u001b[0m\u001b[1;33m,\u001b[0m \u001b[0msuffixes\u001b[0m\u001b[1;33m=\u001b[0m\u001b[0msuffixes\u001b[0m\u001b[1;33m,\u001b[0m\u001b[1;33m\u001b[0m\u001b[0m\n\u001b[0;32m     56\u001b[0m                          \u001b[0mcopy\u001b[0m\u001b[1;33m=\u001b[0m\u001b[0mcopy\u001b[0m\u001b[1;33m,\u001b[0m \u001b[0mindicator\u001b[0m\u001b[1;33m=\u001b[0m\u001b[0mindicator\u001b[0m\u001b[1;33m,\u001b[0m\u001b[1;33m\u001b[0m\u001b[0m\n\u001b[1;32m---> 57\u001b[1;33m                          validate=validate)\n\u001b[0m\u001b[0;32m     58\u001b[0m     \u001b[1;32mreturn\u001b[0m \u001b[0mop\u001b[0m\u001b[1;33m.\u001b[0m\u001b[0mget_result\u001b[0m\u001b[1;33m(\u001b[0m\u001b[1;33m)\u001b[0m\u001b[1;33m\u001b[0m\u001b[0m\n\u001b[0;32m     59\u001b[0m \u001b[1;33m\u001b[0m\u001b[0m\n",
      "\u001b[1;32m~\\Anaconda3\\lib\\site-packages\\pandas\\core\\reshape\\merge.py\u001b[0m in \u001b[0;36m__init__\u001b[1;34m(self, left, right, how, on, left_on, right_on, axis, left_index, right_index, sort, suffixes, copy, indicator, validate)\u001b[0m\n\u001b[0;32m    536\u001b[0m         \u001b[1;32mif\u001b[0m \u001b[1;32mnot\u001b[0m \u001b[0misinstance\u001b[0m\u001b[1;33m(\u001b[0m\u001b[0mleft\u001b[0m\u001b[1;33m,\u001b[0m \u001b[0mDataFrame\u001b[0m\u001b[1;33m)\u001b[0m\u001b[1;33m:\u001b[0m\u001b[1;33m\u001b[0m\u001b[0m\n\u001b[0;32m    537\u001b[0m             raise ValueError('can not merge DataFrame with instance of '\n\u001b[1;32m--> 538\u001b[1;33m                              'type {left}'.format(left=type(left)))\n\u001b[0m\u001b[0;32m    539\u001b[0m         \u001b[1;32mif\u001b[0m \u001b[1;32mnot\u001b[0m \u001b[0misinstance\u001b[0m\u001b[1;33m(\u001b[0m\u001b[0mright\u001b[0m\u001b[1;33m,\u001b[0m \u001b[0mDataFrame\u001b[0m\u001b[1;33m)\u001b[0m\u001b[1;33m:\u001b[0m\u001b[1;33m\u001b[0m\u001b[0m\n\u001b[0;32m    540\u001b[0m             raise ValueError('can not merge DataFrame with instance of '\n",
      "\u001b[1;31mValueError\u001b[0m: can not merge DataFrame with instance of type <class 'numpy.ndarray'>"
     ]
    }
   ],
   "source": [
    "#index original DF by SN\n",
    "purchase_data_SN = purchase_data.set_index(\"SN\")\n",
    "top_spenders = purchase_data_SN.loc[[\"Lisosia93\", \"Idastidru52\", \"Chamjask73\",\n",
    "                                \"Iral74\", \"Iskadarya95\"], [\"Price\"]]\n",
    "#purchase_data_group_SN.head()\n",
    "\n",
    "top_spenders_val_count = top_spenders.index.value_counts()\n",
    "top_spenders_val_count_df=pd.DataFrame(top_spenders_val_count)\n",
    "top_spenders_val_count_df = top_spenders_val_count_df.rename(columns={'SN': 'Rename'})\n",
    "top_spenders_val_count_df.index.name = \"SN\"\n",
    "\n",
    "price_average = top_spenders.groupby(\"SN\")\n",
    "mean = price_average.mean()\n",
    "\n",
    "price_sum = top_spenders.groupby(\"SN\")\n",
    "sum_top_spenders = price_sum.sum().reset_index().values\n",
    "ts_analysis1=pd.merge(sum_top_spenders, mean,on=\"SN\",how=\"outer\")\n",
    "ts_analysis2=pd.merge(ts_analysis1, top_spenders_val_count_df,on=\"SN\",how=\"outer\")\n",
    "ts_analysis3=ts_analysis2.rename(columns={'Price_x': 'Total Purchase Value', 'Price_y':'Average Purchase Price', 'Rename':'Purchase Count'})\n",
    "ts_analysis3[\"Average Purchase Price\"] = ts_analysis3[\"Average Purchase Price\"] .map(\"${:.2f}\".format)\n",
    "ts_analysis3[\"Total Purchase Value\"] = ts_analysis3[\"Total Purchase Value\"] .map(\"${:.2f}\".format)\n",
    "ts_analysis3\n",
    "\n",
    "\n",
    "\n",
    "# #count individual players purchases\n",
    "# player_purchase_counts = purchase_data_group_SN[\"Purchase ID\"].count()\n",
    "# #player_purchase_counts.head()\n",
    "\n",
    "# #calculate Average player purchase price\n",
    "# player_purchase_average = purchase_data_group_SN[\"Price\"].mean()\n",
    "# #player_purchase_average.head()\n",
    "\n",
    "# #Calculate total purchase price for each group\n",
    "# player_purchase_total = purchase_data_group_SN[\"Price\"].sum()\n",
    "# #player_purchase_total.head()\n",
    "\n",
    "\n",
    "# #add columns to orig dataframe then print selected columns to get proper formatting\n",
    "# # purchase_data_group_SN[\"Purchase Count\"] = player_purchase_counts\n",
    "# # purchase_data_group_SN[\"Average Purchase Price\"] = player_purchase_average\n",
    "# # purchase_data_group_SN[\"Total Purchase Value\"] = player_purchase_total\n",
    "\n",
    "# # Top_spender_purchasing_summary_df = pd.DataFrame({\"Purchase Count\": [player_purchase_counts],\n",
    "# #                                                   \"Average Purchase Price\": [player_purchase_average],\n",
    "# #                                                   \"Total Purchase Value\": [player_purchase_total]})\n",
    "# #Top_spender_purchasing_summary_df\n",
    "# # purchase_data_group_SN_reduced = purchase_data_group_SN[[\"SN\",\"Purchase Count\",\"Average Purchase Price\",\"Total Purchase Value\"]]\n",
    "# # purchase_data_group_SN_reduced.head()"
   ]
  },
  {
   "cell_type": "code",
   "execution_count": null,
   "metadata": {},
   "outputs": [],
   "source": [
    "# purchase_data_item_reduced = purchase_data[['Item ID', 'Item Name', 'Price']]\n",
    "# purchase_data_item_reduced.head()"
   ]
  },
  {
   "cell_type": "code",
   "execution_count": null,
   "metadata": {},
   "outputs": [],
   "source": [
    "# purchase_data_item_reduced_grouped = purchase_data_item_reduced.groupby(['Item ID', 'Item Name'])\n"
   ]
  },
  {
   "cell_type": "markdown",
   "metadata": {},
   "source": [
    "## Most Popular Items"
   ]
  },
  {
   "cell_type": "markdown",
   "metadata": {},
   "source": [
    "* Retrieve the Item ID, Item Name, and Item Price columns\n",
    "\n",
    "\n",
    "* Group by Item ID and Item Name. Perform calculations to obtain purchase count, item price, and total purchase value\n",
    "\n",
    "\n",
    "* Create a summary data frame to hold the results\n",
    "\n",
    "\n",
    "* Sort the purchase count column in descending order\n",
    "\n",
    "\n",
    "* Optional: give the displayed data cleaner formatting\n",
    "\n",
    "\n",
    "* Display a preview of the summary data frame\n",
    "\n"
   ]
  },
  {
   "cell_type": "code",
   "execution_count": 11,
   "metadata": {},
   "outputs": [
    {
     "ename": "NameError",
     "evalue": "name 'top_index2_count' is not defined",
     "output_type": "error",
     "traceback": [
      "\u001b[1;31m---------------------------------------------------------------------------\u001b[0m",
      "\u001b[1;31mNameError\u001b[0m                                 Traceback (most recent call last)",
      "\u001b[1;32m<ipython-input-11-67985254b8a7>\u001b[0m in \u001b[0;36m<module>\u001b[1;34m()\u001b[0m\n\u001b[0;32m      4\u001b[0m \u001b[0mtop_index2_df_count\u001b[0m \u001b[1;33m=\u001b[0m \u001b[0mtop_index2_df\u001b[0m\u001b[1;33m[\u001b[0m\u001b[1;34m\"Item ID\"\u001b[0m\u001b[1;33m]\u001b[0m\u001b[1;33m.\u001b[0m\u001b[0mvalue_counts\u001b[0m\u001b[1;33m(\u001b[0m\u001b[1;33m)\u001b[0m\u001b[1;33m\u001b[0m\u001b[0m\n\u001b[0;32m      5\u001b[0m \u001b[0mtop_grouped\u001b[0m \u001b[1;33m=\u001b[0m \u001b[0mtop_index2_df\u001b[0m\u001b[1;33m.\u001b[0m\u001b[0mgroupby\u001b[0m\u001b[1;33m(\u001b[0m\u001b[1;33m[\u001b[0m\u001b[1;34m'Item Name'\u001b[0m\u001b[1;33m]\u001b[0m\u001b[1;33m)\u001b[0m\u001b[1;33m\u001b[0m\u001b[0m\n\u001b[1;32m----> 6\u001b[1;33m \u001b[0mpopular1\u001b[0m \u001b[1;33m=\u001b[0m \u001b[0mpd\u001b[0m\u001b[1;33m.\u001b[0m\u001b[0mDataFrame\u001b[0m\u001b[1;33m(\u001b[0m\u001b[0mtop_index2_count\u001b[0m\u001b[1;33m)\u001b[0m\u001b[1;33m\u001b[0m\u001b[0m\n\u001b[0m\u001b[0;32m      7\u001b[0m \u001b[0mpopular1_df\u001b[0m\u001b[1;33m=\u001b[0m\u001b[0mpopular1\u001b[0m\u001b[1;33m.\u001b[0m\u001b[0mrename\u001b[0m\u001b[1;33m(\u001b[0m\u001b[0mcolumns\u001b[0m\u001b[1;33m=\u001b[0m\u001b[1;33m{\u001b[0m\u001b[1;34m'Item ID'\u001b[0m\u001b[1;33m:\u001b[0m \u001b[1;34m'Purchase Count'\u001b[0m\u001b[1;33m}\u001b[0m\u001b[1;33m)\u001b[0m\u001b[1;33m\u001b[0m\u001b[0m\n\u001b[0;32m      8\u001b[0m \u001b[0mpopular1_df\u001b[0m\u001b[1;33m.\u001b[0m\u001b[0mindex\u001b[0m\u001b[1;33m.\u001b[0m\u001b[0mname\u001b[0m \u001b[1;33m=\u001b[0m \u001b[1;34m\"Item ID\"\u001b[0m\u001b[1;33m\u001b[0m\u001b[0m\n",
      "\u001b[1;31mNameError\u001b[0m: name 'top_index2_count' is not defined"
     ]
    }
   ],
   "source": [
    "item_index = purchase_data.set_index(\"Item Name\")\n",
    "top_index2 = item_index.loc[[\"Oathbreaker, Last Hope of the Breaking Storm\", \"Fiery Glass Crusader\", \"Extraction, Quickblade Of Trembling Hands\", \"Nirvana\", \"Pursuit, Cudgel of Necromancy\"], [\"Item ID\",\"Purchase ID\",\"Price\"]]\n",
    "top_index2_df=pd.DataFrame(top_index2)\n",
    "top_index2_df_count = top_index2_df[\"Item ID\"].value_counts()\n",
    "top_grouped = top_index2_df.groupby(['Item Name'])\n",
    "popular1 = pd.DataFrame(top_index2_count)\n",
    "popular1_df=popular1.rename(columns={'Item ID': 'Purchase Count'})\n",
    "popular1_df.index.name = \"Item ID\"\n",
    "\n",
    "top_index2_count_df=pd.DataFrame(top_index2_count)\n",
    "top_index2_count_df=top_index2_count_df.rename(columns={'Item ID': 'Rename'})\n",
    "top_index2_count_df\n",
    "top_index2_count_df.index.name = \"Item ID\"\n",
    "\n",
    "pop_analysis1=pd.merge(top_index2_count_df, popular1_df,on=\"Item ID\",how=\"outer\")\n",
    "pop_analysis2=top_grouped.mean()\n",
    "pop_analysis2=pop_analysis2.rename(columns={'Price': 'Item Price'})\n",
    "pop_analysis3=top_grouped.sum()\n",
    "\n",
    "pop_analysis3=pop_analysis3.rename(columns={'Price': 'Total Purchase Value'})\n",
    "pop_analysis4=pd.merge(pop_analysis2, pop_analysis3,on=\"Item Name\",how=\"outer\")\n",
    "pop_analysis5= pop_analysis4.drop(['Purchase ID_x', 'Item ID_y', 'Purchase ID_y'], axis=1)\n",
    "pop_analysis5_df=pop_analysis5[\"Item ID_x\"].map(\"{:.0f}\".format)\n",
    "\n",
    "pop_analysis6_df=pd.DataFrame(pop_analysis6_df)\n",
    "pop_analysis7_df=pd.merge(pop_analysis6_df, pop_analysis5,on=\"Item Name\",how=\"outer\")\n",
    "pop_analysis7_df=pop_analysis7_df.drop(['Item ID_x_y'], axis=1)\n",
    "pop_analysis7_df=pop_analysis7_df.rename(columns={'Item ID_x_x': 'Item ID'})\n",
    "\n"
   ]
  },
  {
   "cell_type": "code",
   "execution_count": null,
   "metadata": {},
   "outputs": [],
   "source": [
    "top_index2_df_name = top_index2_df.index.value_counts()\n",
    "top_index2_df_name_df=pd.DataFrame(top_index2_df_name)\n",
    "top_index2_df_name_df=top_index2_df_name_df.rename(columns={'Item Name': 'Purchase Count'})\n",
    "top_index2_df_name_df.index.name = \"Item Name\""
   ]
  },
  {
   "cell_type": "code",
   "execution_count": null,
   "metadata": {},
   "outputs": [],
   "source": [
    "final_df=pd.merge(top_index2_df_name_df, pop_analysis7_df,on=\"Item Name\",how=\"outer\")\n",
    "final_df[\"Total Purchase Value\"] = final_df[\"Total Purchase Value\"].map(\"${:.2f}\".format)\n",
    "final_df[\"Item Price\"] = final_df[\"Item Price\"].map(\"${:.2f}\".format)\n",
    "final_df"
   ]
  },
  {
   "cell_type": "markdown",
   "metadata": {},
   "source": [
    "## Most Profitable Items"
   ]
  },
  {
   "cell_type": "markdown",
   "metadata": {},
   "source": [
    "* Sort the above table by total purchase value in descending order\n",
    "\n",
    "\n",
    "* Optional: give the displayed data cleaner formatting\n",
    "\n",
    "\n",
    "* Display a preview of the data frame\n",
    "\n"
   ]
  },
  {
   "cell_type": "code",
   "execution_count": null,
   "metadata": {
    "scrolled": true
   },
   "outputs": [],
   "source": [
    "\n",
    "final_df"
   ]
  },
  {
   "cell_type": "code",
   "execution_count": null,
   "metadata": {},
   "outputs": [],
   "source": []
  }
 ],
 "metadata": {
  "anaconda-cloud": {},
  "kernel_info": {
   "name": "python3"
  },
  "kernelspec": {
   "display_name": "Python 3",
   "language": "python",
   "name": "python3"
  },
  "language_info": {
   "codemirror_mode": {
    "name": "ipython",
    "version": 3
   },
   "file_extension": ".py",
   "mimetype": "text/x-python",
   "name": "python",
   "nbconvert_exporter": "python",
   "pygments_lexer": "ipython3",
   "version": "3.6.4"
  },
  "nteract": {
   "version": "0.8.4"
  }
 },
 "nbformat": 4,
 "nbformat_minor": 1
}
